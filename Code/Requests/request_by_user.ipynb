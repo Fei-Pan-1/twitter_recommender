{
  "nbformat": 4,
  "nbformat_minor": 0,
  "metadata": {
    "colab": {
      "name": "request_by_user.ipynb",
      "provenance": [],
      "collapsed_sections": [],
      "authorship_tag": "ABX9TyPMRs4qJCJG1B6T2/qhFjPS"
    },
    "kernelspec": {
      "name": "python3",
      "display_name": "Python 3"
    },
    "language_info": {
      "name": "python"
    }
  },
  "cells": [
    {
      "cell_type": "code",
      "execution_count": 175,
      "metadata": {
        "id": "9ZMUdNTa6KO2"
      },
      "outputs": [],
      "source": [
        "import requests\n",
        "import os\n",
        "import json\n",
        "import pandas as pd\n",
        "import time\n",
        "from google.colab import drive"
      ]
    },
    {
      "cell_type": "markdown",
      "source": [
        "TO FIX (HIDE THE KEY)"
      ],
      "metadata": {
        "id": "VjkdS2JMghxt"
      }
    },
    {
      "cell_type": "code",
      "source": [
        "# export 'BEARER_TOKEN'='<your_bearer_token>'\n",
        "# bearer_token = os.environ.get(\"BEARER_TOKEN\")\n",
        "bearer_token = 'AAAAAAAAAAAAAAAAAAAAAIxjZAEAAAAAIktbOv%2Fsv8GGGPhOoY1ZfcmCCik%3DaK1do3V6O' \\\n",
        "               'yehB2URtPahKgjbtgKUhq4B8T72kMt3yxnrVEYUeU'"
      ],
      "metadata": {
        "id": "WY7WuyzpA4CZ"
      },
      "execution_count": 176,
      "outputs": []
    },
    {
      "cell_type": "code",
      "source": [
        "def create_url(user_id, start_date, end_date, next_token, max_results):\n",
        "    search_url = \"https://api.twitter.com/2/users/{}/tweets\".format(user_id)\n",
        "\n",
        "    query_params = {\n",
        "                    'start_time': start_date,\n",
        "                    'end_time': end_date,\n",
        "                    'max_results': max_results,\n",
        "                    'tweet.fields': 'author_id,id,created_at,lang,text,public_metrics,referenced_tweets,'\n",
        "                                    'in_reply_to_user_id,conversation_id',\n",
        "                    'user.fields': 'id,name,username,description,verified',\n",
        "                    # 'expansions': 'author_id,in_reply_to_user_id,geo.place_id',\n",
        "                    # 'place.fields': 'full_name,id,country,country_code,geo,name,place_type',\n",
        "                    'pagination_token': next_token}\n",
        "    return search_url, query_params"
      ],
      "metadata": {
        "id": "EMlq-tROBBdw"
      },
      "execution_count": 177,
      "outputs": []
    },
    {
      "cell_type": "code",
      "source": [
        "def create_header(bearer_token):\n",
        "    headers = {\"Authorization\": f\"Bearer {bearer_token}\"}\n",
        "    # r.headers[\"User-Agent\"] = \"v2UserTweetsPython\"\n",
        "    return headers"
      ],
      "metadata": {
        "id": "6MgXLlqmBI-w"
      },
      "execution_count": 178,
      "outputs": []
    },
    {
      "cell_type": "code",
      "source": [
        "def connect_to_endpoint(url, headers, params, next_token=None):\n",
        "    if not next_token:\n",
        "        params['pagination_token'] = next_token\n",
        "    # print(params)\n",
        "    # print(headers)\n",
        "    response = requests.request(\"GET\", url, headers=headers, params=params)\n",
        "    print(response.status_code)\n",
        "    if response.status_code != 200:\n",
        "        raise Exception(\n",
        "            \"Request returned an error: {} {}\".format(\n",
        "                response.status_code, response.text\n",
        "            )\n",
        "        )\n",
        "    return response.json()"
      ],
      "metadata": {
        "id": "Bf3frRWLBVDE"
      },
      "execution_count": 179,
      "outputs": []
    },
    {
      "cell_type": "code",
      "source": [
        "def main():\n",
        "    # user_id_lst = []\n",
        "    # user_id_lst.append('109375565')\n",
        "    start_lst = ['2022-03-01T00:00:00.000Z',\n",
        "                  '2022-02-01T00:00:00.000Z',\n",
        "                  '2022-01-01T00:00:00.000Z']\n",
        "\n",
        "    end_lst = ['2022-04-01T00:00:00.000Z',\n",
        "                '2022-03-01T00:00:00.000Z',\n",
        "                '2022-02-01T00:00:00.000Z']\n",
        "    user_id = '109375565'\n",
        "    # start_date = '2022-01-01T00:00:00.000Z'\n",
        "    # end_date = '2022-03-25T00:00:00.000Z'\n",
        "\n",
        "    max_results = 100\n",
        "    total_tweets = 0\n",
        "    max_request = 5    # max 450 requests per 15mins\n",
        "    request = 0\n",
        "    flag = True\n",
        "    sleep_time = 60*15\n",
        "    df = pd.DataFrame()\n",
        "    next_token = None\n",
        "    headers = create_header(bearer_token)\n",
        "\n",
        "    while flag:\n",
        "        for i in range(len(start_lst)):\n",
        "            next_token = None\n",
        "            count = 0\n",
        "            for j in range(max_request):\n",
        "                url, params = create_url(user_id, start_lst[i], end_lst[i], next_token, max_results)\n",
        "                json_response = connect_to_endpoint(url, headers, params, next_token)\n",
        "                request += 1\n",
        "                # print(json.dumps(json_response, indent=4, sort_keys=True))\n",
        "                if json_response['meta']['result_count'] == 0:\n",
        "                    print('No data found between ', start_lst[i], ' and ', end_lst[i])\n",
        "                    break\n",
        "                if df.empty:\n",
        "                  df = pd.DataFrame(json_response['data'])\n",
        "                else:\n",
        "                  df = df.append(pd.DataFrame(json_response['data']), ignore_index=True)\n",
        "                # print('**************************************************\\n',df.shape, '\\n',df)\n",
        "                result_count = json_response['meta']['result_count']\n",
        "                next_token = json_response['meta']['next_token']\n",
        "                count += result_count\n",
        "                total_tweets += result_count\n",
        "                print('Data between ', start_lst[i], ' and ', end_lst[i], ': request ', result_count, ', total tweets:', total_tweets)\n",
        "\n",
        "                if request >= 450:\n",
        "                    print('sleeping...')\n",
        "                    time.sleep(sleep_time)\n",
        "                if not next_token:\n",
        "                    flag = False\n",
        "                    print('next token is None')\n",
        "                    break\n",
        "        flag = False\n",
        "\n",
        "    drive.mount('/drive')    \n",
        "    df.to_csv('/drive/My Drive/cs297/FeiPan_TwitterRecommender_CS297/tweets_by_user.csv')\n",
        "    print(df)"
      ],
      "metadata": {
        "id": "p_m8PHlpBaIH"
      },
      "execution_count": 180,
      "outputs": []
    },
    {
      "cell_type": "code",
      "source": [
        "if __name__ == \"__main__\":\n",
        "    main()"
      ],
      "metadata": {
        "colab": {
          "base_uri": "https://localhost:8080/"
        },
        "id": "lSOW8R1zBbIn",
        "outputId": "d461cbd3-2bd1-4e9f-8184-4d9ce6c26119"
      },
      "execution_count": 181,
      "outputs": [
        {
          "output_type": "stream",
          "name": "stdout",
          "text": [
            "200\n",
            "Data between  2022-03-01T00:00:00.000Z  and  2022-04-01T00:00:00.000Z : request  100 , total tweets: 100\n",
            "200\n",
            "Data between  2022-03-01T00:00:00.000Z  and  2022-04-01T00:00:00.000Z : request  100 , total tweets: 200\n",
            "200\n",
            "Data between  2022-03-01T00:00:00.000Z  and  2022-04-01T00:00:00.000Z : request  100 , total tweets: 300\n",
            "200\n",
            "Data between  2022-03-01T00:00:00.000Z  and  2022-04-01T00:00:00.000Z : request  100 , total tweets: 400\n",
            "200\n",
            "Data between  2022-03-01T00:00:00.000Z  and  2022-04-01T00:00:00.000Z : request  100 , total tweets: 500\n",
            "200\n",
            "No data found between  2022-02-01T00:00:00.000Z  and  2022-03-01T00:00:00.000Z\n",
            "200\n",
            "No data found between  2022-01-01T00:00:00.000Z  and  2022-02-01T00:00:00.000Z\n",
            "Drive already mounted at /drive; to attempt to forcibly remount, call drive.mount(\"/drive\", force_remount=True).\n",
            "    lang  author_id                                     public_metrics  \\\n",
            "0     en  109375565  {'retweet_count': 320, 'reply_count': 0, 'like...   \n",
            "1     en  109375565  {'retweet_count': 6, 'reply_count': 0, 'like_c...   \n",
            "2     en  109375565  {'retweet_count': 127, 'reply_count': 0, 'like...   \n",
            "3     en  109375565  {'retweet_count': 245, 'reply_count': 0, 'like...   \n",
            "4     en  109375565  {'retweet_count': 6, 'reply_count': 0, 'like_c...   \n",
            "..   ...        ...                                                ...   \n",
            "495   en  109375565  {'retweet_count': 148, 'reply_count': 0, 'like...   \n",
            "496   en  109375565  {'retweet_count': 7, 'reply_count': 0, 'like_c...   \n",
            "497   en  109375565  {'retweet_count': 10088, 'reply_count': 0, 'li...   \n",
            "498   en  109375565  {'retweet_count': 10, 'reply_count': 0, 'like_...   \n",
            "499   en  109375565  {'retweet_count': 0, 'reply_count': 0, 'like_c...   \n",
            "\n",
            "                                                  text      conversation_id  \\\n",
            "0    RT @molly0xFFF: Around fifteen researchers and...  1507437939436916737   \n",
            "1    RT @JoshLipnik: this reminded me of my most co...  1507437776391733251   \n",
            "2    RT @Alec_Dent: Some have claimed that Biden us...  1507437728023003136   \n",
            "3    RT @nexta_tv: A white-red-white flag was notic...  1507437645462343680   \n",
            "4    RT @timjudah1: I was in #Makariv...or rather t...  1507437605696073732   \n",
            "..                                                 ...                  ...   \n",
            "495  RT @rickhasen: #ELB: Breaking: Supreme Court, ...  1506677542975025152   \n",
            "496  RT @PGourevitch: nothing new about the overt h...  1506676655552532484   \n",
            "497  RT @IgorKossov: According to the mayor of Irpi...  1506676292363554816   \n",
            "498  RT @Swift01_2000: @jkenney Uh, you LOST jason....  1506676176248455170   \n",
            "499  @YankeeGunner It's a shame it couldn't be the ...  1506674285661806593   \n",
            "\n",
            "                                     referenced_tweets                   id  \\\n",
            "0    [{'type': 'retweeted', 'id': '1507391218082328...  1507437939436916737   \n",
            "1    [{'type': 'retweeted', 'id': '1507435681307668...  1507437776391733251   \n",
            "2    [{'type': 'retweeted', 'id': '1507434133844369...  1507437728023003136   \n",
            "3    [{'type': 'retweeted', 'id': '1507435744222187...  1507437645462343680   \n",
            "4    [{'type': 'retweeted', 'id': '1507435883116601...  1507437605696073732   \n",
            "..                                                 ...                  ...   \n",
            "495  [{'type': 'retweeted', 'id': '1506674571772006...  1506677542975025152   \n",
            "496  [{'type': 'retweeted', 'id': '1506676597700673...  1506676655552532484   \n",
            "497  [{'type': 'retweeted', 'id': '1506596104460288...  1506676292363554816   \n",
            "498  [{'type': 'retweeted', 'id': '1506672624335732...  1506676176248455170   \n",
            "499  [{'type': 'replied_to', 'id': '150667428566180...  1506676120300654593   \n",
            "\n",
            "                   created_at in_reply_to_user_id  \n",
            "0    2022-03-25T19:23:06.000Z                 NaN  \n",
            "1    2022-03-25T19:22:27.000Z                 NaN  \n",
            "2    2022-03-25T19:22:15.000Z                 NaN  \n",
            "3    2022-03-25T19:21:56.000Z                 NaN  \n",
            "4    2022-03-25T19:21:46.000Z                 NaN  \n",
            "..                        ...                 ...  \n",
            "495  2022-03-23T17:01:33.000Z                 NaN  \n",
            "496  2022-03-23T16:58:02.000Z                 NaN  \n",
            "497  2022-03-23T16:56:35.000Z                 NaN  \n",
            "498  2022-03-23T16:56:07.000Z                 NaN  \n",
            "499  2022-03-23T16:55:54.000Z            19924816  \n",
            "\n",
            "[500 rows x 9 columns]\n"
          ]
        }
      ]
    }
  ]
}