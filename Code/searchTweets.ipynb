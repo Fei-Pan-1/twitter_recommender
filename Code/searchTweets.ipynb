{
  "nbformat": 4,
  "nbformat_minor": 0,
  "metadata": {
    "colab": {
      "name": "searchTweets.ipynb",
      "provenance": [],
      "collapsed_sections": [],
      "mount_file_id": "1sj7p7Fftq2D2OgNMZH1qpeHjjzVRGvrA",
      "authorship_tag": "ABX9TyMRmCBQq+Cpp8e7Lacg2Cga"
    },
    "kernelspec": {
      "name": "python3",
      "display_name": "Python 3"
    },
    "language_info": {
      "name": "python"
    }
  },
  "cells": [
    {
      "cell_type": "markdown",
      "source": [
        "### Working on PyCharm. Not working on Colab"
      ],
      "metadata": {
        "id": "TZjjd5bqniYY"
      }
    },
    {
      "cell_type": "code",
      "execution_count": 39,
      "metadata": {
        "id": "0Ne1EMNk9_WL"
      },
      "outputs": [],
      "source": [
        "import tweepy\n",
        "import json"
      ]
    },
    {
      "cell_type": "markdown",
      "source": [
        "### Read Twitter Developper Account Credential"
      ],
      "metadata": {
        "id": "RgD72ovZoGJs"
      }
    },
    {
      "cell_type": "code",
      "source": [
        "with open(\"credentials/credential_1.json\", \"r\") as infile:\n",
        "     creds = json.load(infile)"
      ],
      "metadata": {
        "id": "1mFJtmD4nMtD"
      },
      "execution_count": null,
      "outputs": []
    },
    {
      "cell_type": "markdown",
      "source": [
        "### Connect Twitter API V2 Client"
      ],
      "metadata": {
        "id": "5j3Bi36goRS4"
      }
    },
    {
      "cell_type": "code",
      "source": [
        "client = tweepy.Client(bearer_token=creds['BEARER_TOKEN'],\n",
        "                       consumer_key=creds['API_KEY'],\n",
        "                       consumer_secret=creds['API_KEY_SECRET'],\n",
        "                       access_token=creds['ACCESS_TOKEN'],\n",
        "                       access_token_secret=creds['ACCESS_TOKEN_SECRET'])"
      ],
      "metadata": {
        "id": "_jS5owftnOg4"
      },
      "execution_count": null,
      "outputs": []
    },
    {
      "cell_type": "markdown",
      "source": [
        "### Get follower ID list from a Covid expert \"Eric Topol\""
      ],
      "metadata": {
        "id": "ZpvnCoXNoaIJ"
      }
    },
    {
      "cell_type": "code",
      "source": [
        "user_name = \"EricTopol\"\n",
        "user = client.get_user(username=user_name)\n",
        "id = user.data['id']\n",
        "print(id)\n",
        "\n",
        "followers = client.get_users_followers(id=id)\n",
        "follower_list = []\n",
        "for follower in followers.data:\n",
        "    follower_list.append(follower.id)\n",
        "\n",
        "for i in range(len(follower_list)):\n",
        "    print(i, ':', follower_list[i])"
      ],
      "metadata": {
        "id": "e0oXU1wqnRxe"
      },
      "execution_count": null,
      "outputs": []
    },
    {
      "cell_type": "markdown",
      "source": [
        "### Start Searching the followers' tweets that include at least one hashtag"
      ],
      "metadata": {
        "id": "JypQamzCoydB"
      }
    },
    {
      "cell_type": "code",
      "source": [
        "query = 'from:' + str(follower_list[0]) + ' has:hashtags lang:en'\n",
        "print(query)\n",
        "tweets = client.search_recent_tweets(query=query, max_results=30)\n",
        "for tweet in tweets.data:\n",
        "    print(tweet)"
      ],
      "metadata": {
        "id": "a9rDYzdHnXtw"
      },
      "execution_count": null,
      "outputs": []
    }
  ]
}